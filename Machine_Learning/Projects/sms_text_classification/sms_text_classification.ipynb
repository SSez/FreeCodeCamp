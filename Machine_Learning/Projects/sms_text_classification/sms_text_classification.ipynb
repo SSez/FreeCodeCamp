{
  "cells": [
    {
      "cell_type": "markdown",
      "metadata": {
        "id": "Eg62Pmz3o83v"
      },
      "source": [
        "*Note: You are currently reading this using Google Colaboratory which is a cloud-hosted version of Jupyter Notebook. This is a document containing both text cells for documentation and runnable code cells. If you are unfamiliar with Jupyter Notebook, watch this 3-minute introduction before starting this challenge: https://www.youtube.com/watch?v=inN8seMm7UI*\n",
        "\n",
        "---\n",
        "\n",
        "In this challenge, you need to create a machine learning model that will classify SMS messages as either \"ham\" or \"spam\". A \"ham\" message is a normal message sent by a friend. A \"spam\" message is an advertisement or a message sent by a company.\n",
        "\n",
        "You should create a function called `predict_message` that takes a message string as an argument and returns a list. The first element in the list should be a number between zero and one that indicates the likeliness of \"ham\" (0) or \"spam\" (1). The second element in the list should be the word \"ham\" or \"spam\", depending on which is most likely.\n",
        "\n",
        "For this challenge, you will use the [SMS Spam Collection dataset](http://www.dt.fee.unicamp.br/~tiago/smsspamcollection/). The dataset has already been grouped into train data and test data.\n",
        "\n",
        "The first two cells import the libraries and data. The final cell tests your model and function. Add your code in between these cells.\n"
      ]
    },
    {
      "cell_type": "code",
      "execution_count": 1,
      "metadata": {
        "id": "8RZOuS9LWQvv"
      },
      "outputs": [
        {
          "name": "stdout",
          "output_type": "stream",
          "text": [
            "Num GPUs Available:  1\n",
            "2.8.0-dev20211104\n"
          ]
        }
      ],
      "source": [
        "# import libraries\n",
        "'''\n",
        "pip install tensorflow-datasets\n",
        "try:\n",
        "  # %tensorflow_version only exists in Colab.\n",
        "  #!pip install tf-nightly\n",
        "except Exception:\n",
        "  pass\n",
        "'''\n",
        "import tensorflow as tf\n",
        "import pandas as pd\n",
        "from tensorflow import keras\n",
        "import tensorflow_datasets as tfds\n",
        "import numpy as np\n",
        "import matplotlib.pyplot as plt\n",
        "\n",
        "from keras.preprocessing.text import Tokenizer\n",
        "from keras.preprocessing.sequence import pad_sequences\n",
        "\n",
        "print(\"Num GPUs Available: \", len(tf.config.experimental.list_physical_devices('GPU')))\n",
        "print(tf.__version__)"
      ]
    },
    {
      "cell_type": "code",
      "execution_count": 2,
      "metadata": {
        "id": "lMHwYXHXCar3"
      },
      "outputs": [],
      "source": [
        "# get data files\n",
        "#!wget https://cdn.freecodecamp.org/project-data/sms/train-data.tsv\n",
        "#!wget https://cdn.freecodecamp.org/project-data/sms/valid-data.tsv\n",
        "\n",
        "MAXLEN = 100\n",
        "BATCH_SIZE = 64\n",
        "\n",
        "train_file_path = \"train-data.tsv\"\n",
        "test_file_path = \"valid-data.tsv\""
      ]
    },
    {
      "cell_type": "code",
      "execution_count": 3,
      "metadata": {
        "id": "g_h508FEClxO"
      },
      "outputs": [],
      "source": [
        "# process the data\n",
        "columns = ['label', 'text']\n",
        "train_data = pd.read_table(train_file_path, sep=(\"\\t\"), header=None, names=columns)\n",
        "test_data = pd.read_table(test_file_path, sep=(\"\\t\"), header=None, names=columns)"
      ]
    },
    {
      "cell_type": "code",
      "execution_count": 4,
      "metadata": {},
      "outputs": [],
      "source": [
        "train_data['label'] = train_data['label'].eq('spam').astype(int)\n",
        "test_data['label'] = test_data['label'].eq('spam').astype(int)\n",
        "train_labels = train_data.pop('label')\n",
        "test_labels = test_data.pop('label')"
      ]
    },
    {
      "cell_type": "code",
      "execution_count": 5,
      "metadata": {},
      "outputs": [],
      "source": [
        "sentences_train = train_data['text'].values\n",
        "sentences_test = train_data['text'].values"
      ]
    },
    {
      "cell_type": "code",
      "execution_count": 6,
      "metadata": {
        "id": "zOMKywn4zReN"
      },
      "outputs": [],
      "source": [
        "# word embedding\n",
        "tokenizer = Tokenizer(num_words=5000)\n",
        "tokenizer.fit_on_texts(sentences_train)"
      ]
    },
    {
      "cell_type": "code",
      "execution_count": 7,
      "metadata": {},
      "outputs": [],
      "source": [
        "# vectorize the text\n",
        "x_train = tokenizer.texts_to_sequences(sentences_train)\n",
        "x_test = tokenizer.texts_to_sequences(sentences_test)\n",
        "\n",
        "# get vocab size\n",
        "vocab_size = len(tokenizer.word_index) + 1\n",
        "\n",
        "# pad the vecotrized text to equal lengths\n",
        "x_train = pad_sequences(x_train, padding='post', maxlen=MAXLEN)\n",
        "x_test = pad_sequences(x_test, padding='post', maxlen=MAXLEN)"
      ]
    },
    {
      "cell_type": "code",
      "execution_count": 8,
      "metadata": {},
      "outputs": [],
      "source": [
        "# create model\n",
        "model = tf.keras.Sequential([\n",
        "    tf.keras.layers.Embedding(vocab_size, 32),\n",
        "    tf.keras.layers.LSTM(32),\n",
        "    tf.keras.layers.Dense(1, activation=\"sigmoid\")\n",
        "])"
      ]
    },
    {
      "cell_type": "code",
      "execution_count": 9,
      "metadata": {},
      "outputs": [
        {
          "name": "stdout",
          "output_type": "stream",
          "text": [
            "Epoch 1/10\n",
            "105/105 [==============================] - 4s 16ms/step - loss: 0.4097 - acc: 0.8672 - val_loss: 0.4077 - val_acc: 0.8612\n",
            "Epoch 2/10\n",
            "105/105 [==============================] - 1s 11ms/step - loss: 0.3943 - acc: 0.8672 - val_loss: 0.4033 - val_acc: 0.8612\n",
            "Epoch 3/10\n",
            "105/105 [==============================] - 1s 11ms/step - loss: 0.3928 - acc: 0.8672 - val_loss: 0.3922 - val_acc: 0.8612\n",
            "Epoch 4/10\n",
            "105/105 [==============================] - 1s 11ms/step - loss: 0.1257 - acc: 0.9695 - val_loss: 0.1578 - val_acc: 0.9462\n",
            "Epoch 5/10\n",
            "105/105 [==============================] - 1s 11ms/step - loss: 0.1097 - acc: 0.9695 - val_loss: 0.1264 - val_acc: 0.9629\n",
            "Epoch 6/10\n",
            "105/105 [==============================] - 1s 11ms/step - loss: 0.1021 - acc: 0.9761 - val_loss: 0.1328 - val_acc: 0.9677\n",
            "Epoch 7/10\n",
            "105/105 [==============================] - 1s 11ms/step - loss: 0.1076 - acc: 0.9704 - val_loss: 0.1484 - val_acc: 0.9593\n",
            "Epoch 8/10\n",
            "105/105 [==============================] - 1s 11ms/step - loss: 0.1016 - acc: 0.9755 - val_loss: 0.1465 - val_acc: 0.9593\n",
            "Epoch 9/10\n",
            "105/105 [==============================] - 1s 11ms/step - loss: 0.1001 - acc: 0.9746 - val_loss: 0.1477 - val_acc: 0.9581\n",
            "Epoch 10/10\n",
            "105/105 [==============================] - 1s 11ms/step - loss: 0.0981 - acc: 0.9746 - val_loss: 0.1716 - val_acc: 0.9450\n"
          ]
        }
      ],
      "source": [
        "model.compile(loss=\"binary_crossentropy\",optimizer=\"rmsprop\",metrics=['acc'])\n",
        "history = model.fit(x_train, train_labels, epochs=10, validation_split=0.2)"
      ]
    },
    {
      "cell_type": "code",
      "execution_count": 10,
      "metadata": {
        "id": "J9tD9yACG6M9"
      },
      "outputs": [],
      "source": [
        "# function to predict messages based on model\n",
        "# (should return list containing prediction and label, ex. [0.008318834938108921, 'ham'])\n",
        "def predict_message(pred_text):\n",
        "  prediction = []\n",
        "  txt = tokenizer.texts_to_sequences([pred_text])\n",
        "  probabilities = model.predict(txt)\n",
        "  probability = (probabilities[0][0])\n",
        "  prediction.append(probability)\n",
        "\n",
        "  if (probability) >= 0.5:\n",
        "    prediction.append('spam')\n",
        "  else:\n",
        "    prediction.append('ham')\n",
        "  return (prediction)"
      ]
    },
    {
      "cell_type": "code",
      "execution_count": 11,
      "metadata": {
        "id": "Dxotov85SjsC"
      },
      "outputs": [
        {
          "name": "stdout",
          "output_type": "stream",
          "text": [
            "You passed the challenge. Great job!\n"
          ]
        }
      ],
      "source": [
        "# Run this cell to test your function and model. Do not modify contents.\n",
        "def test_predictions():\n",
        "  test_messages = [\"how are you doing today\",\n",
        "                   \"sale today! to stop texts call 98912460324\",\n",
        "                   \"i dont want to go. can we try it a different day? available sat\",\n",
        "                   \"our new mobile video service is live. just install on your phone to start watching.\",\n",
        "                   \"you have won £1000 cash! call to claim your prize.\",\n",
        "                   \"i'll bring it tomorrow. don't forget the milk.\",\n",
        "                   \"wow, is your arm alright. that happened to me one time too\"\n",
        "                  ]\n",
        "\n",
        "  test_answers = [\"ham\", \"spam\", \"ham\", \"spam\", \"spam\", \"ham\", \"ham\"]\n",
        "  passed = True\n",
        "\n",
        "  for msg, ans in zip(test_messages, test_answers):\n",
        "    prediction = predict_message(msg)\n",
        "    if prediction[1] != ans:\n",
        "      passed = False\n",
        "\n",
        "  if passed:\n",
        "    print(\"You passed the challenge. Great job!\")\n",
        "  else:\n",
        "    print(\"You haven't passed yet. Keep trying.\")\n",
        "\n",
        "test_predictions()\n"
      ]
    }
  ],
  "metadata": {
    "colab": {
      "collapsed_sections": [],
      "name": "fcc_sms_text_classification.ipynb",
      "private_outputs": true,
      "provenance": [],
      "toc_visible": true
    },
    "kernelspec": {
      "display_name": "Python 3",
      "name": "python3"
    },
    "language_info": {
      "codemirror_mode": {
        "name": "ipython",
        "version": 3
      },
      "file_extension": ".py",
      "mimetype": "text/x-python",
      "name": "python",
      "nbconvert_exporter": "python",
      "pygments_lexer": "ipython3",
      "version": "3.9.7"
    }
  },
  "nbformat": 4,
  "nbformat_minor": 0
}
